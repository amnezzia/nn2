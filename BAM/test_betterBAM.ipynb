{
 "metadata": {
  "name": "",
  "signature": "sha256:c2d478bf719ce9ad69a9d13f0227fdb2948765754897757691569af178cd5580"
 },
 "nbformat": 3,
 "nbformat_minor": 0,
 "worksheets": [
  {
   "cells": [
    {
     "cell_type": "code",
     "collapsed": false,
     "input": [
      "from betterBAM import BAM\n",
      "import sys\n",
      "import time\n",
      "import numpy as np\n",
      "import pandas as pd\n"
     ],
     "language": "python",
     "metadata": {},
     "outputs": [],
     "prompt_number": 1
    },
    {
     "cell_type": "code",
     "collapsed": false,
     "input": [
      "def get_random_examples(size, n_examples=100, min_num_ones=30, max_num_ones=60):\n",
      "\n",
      "    arr = np.empty((0,size)).astype(np.int8)\n",
      "    fraction = (min_num_ones + max_num_ones) * 0.5 / float(size)\n",
      "\n",
      "    for i in range(n_examples):\n",
      "\n",
      "        candidate = (np.random.rand(size) < fraction) * 1\n",
      "\n",
      "        #while np.dot(candidate, arr.T).sum() > 0 or candidate.sum() < min_num_ones or candidate.sum() > max_num_ones:\n",
      "        #    candidate = (np.random.rand(size) < fraction) * 1\n",
      "\n",
      "\n",
      "        arr = np.concatenate((arr, candidate.reshape((-1, size))))\n",
      "\n",
      "    return arr"
     ],
     "language": "python",
     "metadata": {},
     "outputs": [],
     "prompt_number": 2
    },
    {
     "cell_type": "code",
     "collapsed": false,
     "input": [
      "in_size = 2001\n",
      "out_size = 2000\n",
      "n_examples = 200"
     ],
     "language": "python",
     "metadata": {},
     "outputs": [],
     "prompt_number": 3
    },
    {
     "cell_type": "code",
     "collapsed": false,
     "input": [
      "b = BAM(in_size, out_size)"
     ],
     "language": "python",
     "metadata": {},
     "outputs": [],
     "prompt_number": 4
    },
    {
     "cell_type": "code",
     "collapsed": false,
     "input": [
      "t0 = time.time()\n",
      "inputs = get_random_examples(in_size, n_examples)\n",
      "t1 = time.time()\n",
      "print \"Input generation time: {}\".format(t1 - t0)\n",
      "sys.stdout.flush()\n",
      "outputs = get_random_examples(out_size, n_examples)\n",
      "t2 = time.time()\n",
      "print \"Output generation time: {}\".format(t2 - t1)\n",
      "sys.stdout.flush()"
     ],
     "language": "python",
     "metadata": {},
     "outputs": [
      {
       "output_type": "stream",
       "stream": "stdout",
       "text": [
        "Input generation time: 0.41517996788\n"
       ]
      },
      {
       "output_type": "stream",
       "stream": "stdout",
       "text": [
        "Output generation time: 0.377566099167\n"
       ]
      }
     ],
     "prompt_number": 5
    },
    {
     "cell_type": "code",
     "collapsed": false,
     "input": [
      "t0 = time.time()\n",
      "b.train(inputs, outputs)\n",
      "t1 = time.time()\n",
      "print \"Training time: {}\".format(t1 - t0)\n",
      "sys.stdout.flush()"
     ],
     "language": "python",
     "metadata": {},
     "outputs": [
      {
       "output_type": "stream",
       "stream": "stdout",
       "text": [
        "Training time: 2.1584751606\n"
       ]
      }
     ],
     "prompt_number": 6
    },
    {
     "cell_type": "code",
     "collapsed": false,
     "input": [
      "input_sums = inputs.sum(axis=1).astype(float)\n",
      "output_sums = outputs.sum(axis=1).astype(float)\n"
     ],
     "language": "python",
     "metadata": {},
     "outputs": [],
     "prompt_number": 7
    },
    {
     "cell_type": "code",
     "collapsed": false,
     "input": [
      "test = get_random_examples(in_size, 2)\n",
      "print \"Test sum: {}\".format(test.sum())\n",
      "print \"Max correlation with train inputs: \", (np.dot(test, inputs.T) / input_sums).max()"
     ],
     "language": "python",
     "metadata": {},
     "outputs": [
      {
       "output_type": "stream",
       "stream": "stdout",
       "text": [
        "Test sum: 90\n",
        "Max correlation with train inputs:  0.114285714286\n"
       ]
      }
     ],
     "prompt_number": 8
    },
    {
     "cell_type": "code",
     "collapsed": false,
     "input": [
      "res = b.one_pass(test, threshold=0.6)"
     ],
     "language": "python",
     "metadata": {},
     "outputs": [],
     "prompt_number": 9
    },
    {
     "cell_type": "code",
     "collapsed": false,
     "input": [
      "res.sum(axis=1)"
     ],
     "language": "python",
     "metadata": {},
     "outputs": [
      {
       "metadata": {},
       "output_type": "pyout",
       "prompt_number": 10,
       "text": [
        "array([100,  67])"
       ]
      }
     ],
     "prompt_number": 10
    },
    {
     "cell_type": "code",
     "collapsed": false,
     "input": [],
     "language": "python",
     "metadata": {},
     "outputs": [],
     "prompt_number": 10
    },
    {
     "cell_type": "code",
     "collapsed": false,
     "input": [],
     "language": "python",
     "metadata": {},
     "outputs": [],
     "prompt_number": 10
    },
    {
     "cell_type": "code",
     "collapsed": false,
     "input": [
      "res = b.iterate(test, threshold=0.6, adapt_rate=0.02, max_iter=20)\n",
      "pd.DataFrame(res)"
     ],
     "language": "python",
     "metadata": {},
     "outputs": [
      {
       "html": [
        "<div style=\"max-height:1000px;max-width:1500px;overflow:auto;\">\n",
        "<table border=\"1\" class=\"dataframe\">\n",
        "  <thead>\n",
        "    <tr style=\"text-align: right;\">\n",
        "      <th></th>\n",
        "      <th>in_best_pattern</th>\n",
        "      <th>in_max_corr</th>\n",
        "      <th>in_sum</th>\n",
        "      <th>in_threshold</th>\n",
        "      <th>out_best_pattern</th>\n",
        "      <th>out_max_corr</th>\n",
        "      <th>out_sum</th>\n",
        "      <th>out_threshold</th>\n",
        "    </tr>\n",
        "  </thead>\n",
        "  <tbody>\n",
        "    <tr>\n",
        "      <th>0 </th>\n",
        "      <td>  [31, 140]</td>\n",
        "      <td> [0.0857142857143, 0.114285714286]</td>\n",
        "      <td>  [38, 52]</td>\n",
        "      <td> [0.6, 0.473808974938]</td>\n",
        "      <td>  [52, 140]</td>\n",
        "      <td>            [0.351351351351, 0.2]</td>\n",
        "      <td> [100, 67]</td>\n",
        "      <td> [0.62, 0.600255714286]</td>\n",
        "    </tr>\n",
        "    <tr>\n",
        "      <th>1 </th>\n",
        "      <td>  [160, 12]</td>\n",
        "      <td>  [0.232142857143, 0.317073170732]</td>\n",
        "      <td> [59, 103]</td>\n",
        "      <td> [0.6, 0.473808974938]</td>\n",
        "      <td> [160, 195]</td>\n",
        "      <td> [0.320754716981, 0.175438596491]</td>\n",
        "      <td>  [51, 52]</td>\n",
        "      <td> [0.62, 0.600255714286]</td>\n",
        "    </tr>\n",
        "    <tr>\n",
        "      <th>2 </th>\n",
        "      <td>  [160, 73]</td>\n",
        "      <td>  [0.303571428571, 0.208333333333]</td>\n",
        "      <td>  [33, 49]</td>\n",
        "      <td> [0.6, 0.473808974938]</td>\n",
        "      <td> [160, 118]</td>\n",
        "      <td> [0.566037735849, 0.205882352941]</td>\n",
        "      <td>  [44, 55]</td>\n",
        "      <td> [0.62, 0.600255714286]</td>\n",
        "    </tr>\n",
        "    <tr>\n",
        "      <th>3 </th>\n",
        "      <td>  [160, 73]</td>\n",
        "      <td>  [0.785714285714, 0.208333333333]</td>\n",
        "      <td>  [44, 37]</td>\n",
        "      <td> [0.6, 0.473808974938]</td>\n",
        "      <td> [160, 198]</td>\n",
        "      <td>            [1.0, 0.189189189189]</td>\n",
        "      <td>  [53, 40]</td>\n",
        "      <td> [0.62, 0.600255714286]</td>\n",
        "    </tr>\n",
        "    <tr>\n",
        "      <th>4 </th>\n",
        "      <td> [160, 195]</td>\n",
        "      <td>             [1.0, 0.139534883721]</td>\n",
        "      <td>  [56, 21]</td>\n",
        "      <td> [0.6, 0.473808974938]</td>\n",
        "      <td> [160, 198]</td>\n",
        "      <td>            [1.0, 0.243243243243]</td>\n",
        "      <td>  [53, 44]</td>\n",
        "      <td> [0.62, 0.600255714286]</td>\n",
        "    </tr>\n",
        "    <tr>\n",
        "      <th>5 </th>\n",
        "      <td> [160, 195]</td>\n",
        "      <td>             [1.0, 0.116279069767]</td>\n",
        "      <td>  [56, 13]</td>\n",
        "      <td> [0.6, 0.473808974938]</td>\n",
        "      <td> [160, 198]</td>\n",
        "      <td>            [1.0, 0.297297297297]</td>\n",
        "      <td>  [53, 46]</td>\n",
        "      <td> [0.62, 0.600255714286]</td>\n",
        "    </tr>\n",
        "    <tr>\n",
        "      <th>6 </th>\n",
        "      <td> [160, 195]</td>\n",
        "      <td>             [1.0, 0.116279069767]</td>\n",
        "      <td>  [56, 12]</td>\n",
        "      <td> [0.6, 0.473808974938]</td>\n",
        "      <td> [160, 198]</td>\n",
        "      <td>            [1.0, 0.297297297297]</td>\n",
        "      <td>  [53, 39]</td>\n",
        "      <td> [0.62, 0.600255714286]</td>\n",
        "    </tr>\n",
        "    <tr>\n",
        "      <th>7 </th>\n",
        "      <td> [160, 195]</td>\n",
        "      <td>             [1.0, 0.139534883721]</td>\n",
        "      <td>  [56, 13]</td>\n",
        "      <td> [0.6, 0.473808974938]</td>\n",
        "      <td> [160, 198]</td>\n",
        "      <td>            [1.0, 0.297297297297]</td>\n",
        "      <td>  [53, 35]</td>\n",
        "      <td> [0.62, 0.600255714286]</td>\n",
        "    </tr>\n",
        "    <tr>\n",
        "      <th>8 </th>\n",
        "      <td> [160, 195]</td>\n",
        "      <td>             [1.0, 0.139534883721]</td>\n",
        "      <td>  [56, 12]</td>\n",
        "      <td> [0.6, 0.473808974938]</td>\n",
        "      <td> [160, 195]</td>\n",
        "      <td>            [1.0, 0.228070175439]</td>\n",
        "      <td>  [53, 28]</td>\n",
        "      <td> [0.62, 0.600255714286]</td>\n",
        "    </tr>\n",
        "    <tr>\n",
        "      <th>9 </th>\n",
        "      <td> [160, 195]</td>\n",
        "      <td>             [1.0, 0.209302325581]</td>\n",
        "      <td>  [56, 14]</td>\n",
        "      <td> [0.6, 0.473808974938]</td>\n",
        "      <td> [160, 195]</td>\n",
        "      <td>            [1.0, 0.438596491228]</td>\n",
        "      <td>  [53, 37]</td>\n",
        "      <td> [0.62, 0.600255714286]</td>\n",
        "    </tr>\n",
        "    <tr>\n",
        "      <th>10</th>\n",
        "      <td> [160, 195]</td>\n",
        "      <td>             [1.0, 0.883720930233]</td>\n",
        "      <td>  [56, 42]</td>\n",
        "      <td> [0.6, 0.473808974938]</td>\n",
        "      <td> [160, 195]</td>\n",
        "      <td>                       [1.0, 1.0]</td>\n",
        "      <td>  [53, 57]</td>\n",
        "      <td> [0.62, 0.600255714286]</td>\n",
        "    </tr>\n",
        "    <tr>\n",
        "      <th>11</th>\n",
        "      <td> [160, 195]</td>\n",
        "      <td>                        [1.0, 1.0]</td>\n",
        "      <td>  [56, 43]</td>\n",
        "      <td> [0.6, 0.473808974938]</td>\n",
        "      <td> [160, 195]</td>\n",
        "      <td>                       [1.0, 1.0]</td>\n",
        "      <td>  [53, 57]</td>\n",
        "      <td> [0.62, 0.600255714286]</td>\n",
        "    </tr>\n",
        "    <tr>\n",
        "      <th>12</th>\n",
        "      <td> [160, 195]</td>\n",
        "      <td>                        [1.0, 1.0]</td>\n",
        "      <td>  [56, 43]</td>\n",
        "      <td> [0.6, 0.473808974938]</td>\n",
        "      <td> [160, 195]</td>\n",
        "      <td>                       [1.0, 1.0]</td>\n",
        "      <td>  [53, 57]</td>\n",
        "      <td> [0.62, 0.600255714286]</td>\n",
        "    </tr>\n",
        "  </tbody>\n",
        "</table>\n",
        "</div>"
       ],
       "metadata": {},
       "output_type": "pyout",
       "prompt_number": 18,
       "text": [
        "   in_best_pattern                        in_max_corr     in_sum  \\\n",
        "0        [31, 140]  [0.0857142857143, 0.114285714286]   [38, 52]   \n",
        "1        [160, 12]   [0.232142857143, 0.317073170732]  [59, 103]   \n",
        "2        [160, 73]   [0.303571428571, 0.208333333333]   [33, 49]   \n",
        "3        [160, 73]   [0.785714285714, 0.208333333333]   [44, 37]   \n",
        "4       [160, 195]              [1.0, 0.139534883721]   [56, 21]   \n",
        "5       [160, 195]              [1.0, 0.116279069767]   [56, 13]   \n",
        "6       [160, 195]              [1.0, 0.116279069767]   [56, 12]   \n",
        "7       [160, 195]              [1.0, 0.139534883721]   [56, 13]   \n",
        "8       [160, 195]              [1.0, 0.139534883721]   [56, 12]   \n",
        "9       [160, 195]              [1.0, 0.209302325581]   [56, 14]   \n",
        "10      [160, 195]              [1.0, 0.883720930233]   [56, 42]   \n",
        "11      [160, 195]                         [1.0, 1.0]   [56, 43]   \n",
        "12      [160, 195]                         [1.0, 1.0]   [56, 43]   \n",
        "\n",
        "             in_threshold out_best_pattern                      out_max_corr  \\\n",
        "0   [0.6, 0.473808974938]        [52, 140]             [0.351351351351, 0.2]   \n",
        "1   [0.6, 0.473808974938]       [160, 195]  [0.320754716981, 0.175438596491]   \n",
        "2   [0.6, 0.473808974938]       [160, 118]  [0.566037735849, 0.205882352941]   \n",
        "3   [0.6, 0.473808974938]       [160, 198]             [1.0, 0.189189189189]   \n",
        "4   [0.6, 0.473808974938]       [160, 198]             [1.0, 0.243243243243]   \n",
        "5   [0.6, 0.473808974938]       [160, 198]             [1.0, 0.297297297297]   \n",
        "6   [0.6, 0.473808974938]       [160, 198]             [1.0, 0.297297297297]   \n",
        "7   [0.6, 0.473808974938]       [160, 198]             [1.0, 0.297297297297]   \n",
        "8   [0.6, 0.473808974938]       [160, 195]             [1.0, 0.228070175439]   \n",
        "9   [0.6, 0.473808974938]       [160, 195]             [1.0, 0.438596491228]   \n",
        "10  [0.6, 0.473808974938]       [160, 195]                        [1.0, 1.0]   \n",
        "11  [0.6, 0.473808974938]       [160, 195]                        [1.0, 1.0]   \n",
        "12  [0.6, 0.473808974938]       [160, 195]                        [1.0, 1.0]   \n",
        "\n",
        "      out_sum           out_threshold  \n",
        "0   [100, 67]  [0.62, 0.600255714286]  \n",
        "1    [51, 52]  [0.62, 0.600255714286]  \n",
        "2    [44, 55]  [0.62, 0.600255714286]  \n",
        "3    [53, 40]  [0.62, 0.600255714286]  \n",
        "4    [53, 44]  [0.62, 0.600255714286]  \n",
        "5    [53, 46]  [0.62, 0.600255714286]  \n",
        "6    [53, 39]  [0.62, 0.600255714286]  \n",
        "7    [53, 35]  [0.62, 0.600255714286]  \n",
        "8    [53, 28]  [0.62, 0.600255714286]  \n",
        "9    [53, 37]  [0.62, 0.600255714286]  \n",
        "10   [53, 57]  [0.62, 0.600255714286]  \n",
        "11   [53, 57]  [0.62, 0.600255714286]  \n",
        "12   [53, 57]  [0.62, 0.600255714286]  "
       ]
      }
     ],
     "prompt_number": 18
    },
    {
     "cell_type": "code",
     "collapsed": false,
     "input": [],
     "language": "python",
     "metadata": {},
     "outputs": [],
     "prompt_number": 11
    },
    {
     "cell_type": "code",
     "collapsed": false,
     "input": [],
     "language": "python",
     "metadata": {},
     "outputs": [],
     "prompt_number": 11
    },
    {
     "cell_type": "code",
     "collapsed": false,
     "input": [],
     "language": "python",
     "metadata": {},
     "outputs": [],
     "prompt_number": 11
    },
    {
     "cell_type": "code",
     "collapsed": false,
     "input": [],
     "language": "python",
     "metadata": {},
     "outputs": [],
     "prompt_number": 11
    },
    {
     "cell_type": "code",
     "collapsed": false,
     "input": [
      "np.arange(10).reshape((-1, 10)).sum(axis=1)"
     ],
     "language": "python",
     "metadata": {},
     "outputs": [
      {
       "metadata": {},
       "output_type": "pyout",
       "prompt_number": 12,
       "text": [
        "array([45])"
       ]
      }
     ],
     "prompt_number": 12
    },
    {
     "cell_type": "code",
     "collapsed": false,
     "input": [
      "res = np.random.rand(10, 20)\n",
      "th = 0.5 * np.ones(10)"
     ],
     "language": "python",
     "metadata": {},
     "outputs": [],
     "prompt_number": 13
    },
    {
     "cell_type": "code",
     "collapsed": false,
     "input": [
      "adapt_rate = 0.02\n",
      "out_sum = np.array([5, 10, 20, 30, 40, 50, 60, 70, 80, 90])\n",
      "th_out = np.ones(10) * 0.6"
     ],
     "language": "python",
     "metadata": {},
     "outputs": [],
     "prompt_number": 14
    },
    {
     "cell_type": "code",
     "collapsed": false,
     "input": [
      "th_out *= (1. - (out_sum < 30) * adapt_rate * 30. / out_sum + (out_sum > 60) * adapt_rate * out_sum / 60.)"
     ],
     "language": "python",
     "metadata": {},
     "outputs": [],
     "prompt_number": 15
    },
    {
     "cell_type": "code",
     "collapsed": false,
     "input": [
      "(th_out > 0).any()"
     ],
     "language": "python",
     "metadata": {},
     "outputs": [
      {
       "metadata": {},
       "output_type": "pyout",
       "prompt_number": 16,
       "text": [
        "True"
       ]
      }
     ],
     "prompt_number": 16
    },
    {
     "cell_type": "code",
     "collapsed": false,
     "input": [
      "th_out"
     ],
     "language": "python",
     "metadata": {},
     "outputs": [
      {
       "metadata": {},
       "output_type": "pyout",
       "prompt_number": 17,
       "text": [
        "array([ 0.528,  0.564,  0.582,  0.6  ,  0.6  ,  0.6  ,  0.6  ,  0.614,\n",
        "        0.616,  0.618])"
       ]
      }
     ],
     "prompt_number": 17
    },
    {
     "cell_type": "code",
     "collapsed": false,
     "input": [],
     "language": "python",
     "metadata": {},
     "outputs": [],
     "prompt_number": 17
    }
   ],
   "metadata": {}
  }
 ]
}