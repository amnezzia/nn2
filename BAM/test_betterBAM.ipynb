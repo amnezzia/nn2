{
 "metadata": {
  "name": "",
  "signature": "sha256:d9173fb98c034f3e295d981d85fc87980782754120f233bff676fffb76155794"
 },
 "nbformat": 3,
 "nbformat_minor": 0,
 "worksheets": [
  {
   "cells": [
    {
     "cell_type": "code",
     "collapsed": false,
     "input": [
      "from betterBAM import BAM\n",
      "import sys\n",
      "import time\n",
      "import numpy as np\n",
      "import pandas as pd\n"
     ],
     "language": "python",
     "metadata": {},
     "outputs": [],
     "prompt_number": 1
    },
    {
     "cell_type": "code",
     "collapsed": false,
     "input": [
      "def get_random_examples(size, n_examples=100, min_num_ones=30, max_num_ones=60):\n",
      "\n",
      "    arr = np.empty((0,size)).astype(np.int8)\n",
      "    fraction = (min_num_ones + max_num_ones) * 0.5 / float(size)\n",
      "\n",
      "    for i in range(n_examples):\n",
      "\n",
      "        candidate = (np.random.rand(size) < fraction) * 1\n",
      "\n",
      "        #while np.dot(candidate, arr.T).sum() > 0 or candidate.sum() < min_num_ones or candidate.sum() > max_num_ones:\n",
      "        #    candidate = (np.random.rand(size) < fraction) * 1\n",
      "\n",
      "\n",
      "        arr = np.concatenate((arr, candidate.reshape((-1, size))))\n",
      "\n",
      "    return arr"
     ],
     "language": "python",
     "metadata": {},
     "outputs": [],
     "prompt_number": 2
    },
    {
     "cell_type": "code",
     "collapsed": false,
     "input": [
      "in_size = 2001\n",
      "out_size = 2000\n",
      "n_examples = 200"
     ],
     "language": "python",
     "metadata": {},
     "outputs": [],
     "prompt_number": 3
    },
    {
     "cell_type": "code",
     "collapsed": false,
     "input": [
      "b = BAM(in_size, out_size)"
     ],
     "language": "python",
     "metadata": {},
     "outputs": [],
     "prompt_number": 4
    },
    {
     "cell_type": "code",
     "collapsed": false,
     "input": [
      "t0 = time.time()\n",
      "inputs = get_random_examples(in_size, n_examples)\n",
      "t1 = time.time()\n",
      "print \"Input generation time: {}\".format(t1 - t0)\n",
      "sys.stdout.flush()\n",
      "outputs = get_random_examples(out_size, n_examples)\n",
      "t2 = time.time()\n",
      "print \"Output generation time: {}\".format(t2 - t1)\n",
      "sys.stdout.flush()"
     ],
     "language": "python",
     "metadata": {},
     "outputs": [
      {
       "output_type": "stream",
       "stream": "stdout",
       "text": [
        "Input generation time: 0.41517996788\n"
       ]
      },
      {
       "output_type": "stream",
       "stream": "stdout",
       "text": [
        "Output generation time: 0.377566099167\n"
       ]
      }
     ],
     "prompt_number": 5
    },
    {
     "cell_type": "code",
     "collapsed": false,
     "input": [
      "t0 = time.time()\n",
      "b.train(inputs, outputs)\n",
      "t1 = time.time()\n",
      "print \"Training time: {}\".format(t1 - t0)\n",
      "sys.stdout.flush()"
     ],
     "language": "python",
     "metadata": {},
     "outputs": [
      {
       "output_type": "stream",
       "stream": "stdout",
       "text": [
        "Training time: 2.1584751606\n"
       ]
      }
     ],
     "prompt_number": 6
    },
    {
     "cell_type": "code",
     "collapsed": false,
     "input": [
      "input_sums = inputs.sum(axis=1).astype(float)\n",
      "output_sums = outputs.sum(axis=1).astype(float)\n"
     ],
     "language": "python",
     "metadata": {},
     "outputs": [],
     "prompt_number": 7
    },
    {
     "cell_type": "code",
     "collapsed": false,
     "input": [
      "test = get_random_examples(in_size, 5)\n",
      "print \"Test sum: {}\".format(test.sum())\n",
      "print \"Max correlation with train inputs: \", (np.dot(test, inputs.T) / input_sums).max()"
     ],
     "language": "python",
     "metadata": {},
     "outputs": [
      {
       "output_type": "stream",
       "stream": "stdout",
       "text": [
        "Test sum: 235\n",
        "Max correlation with train inputs:  0.129032258065\n"
       ]
      }
     ],
     "prompt_number": 19
    },
    {
     "cell_type": "code",
     "collapsed": false,
     "input": [
      "res = b.one_pass(test, threshold=0.6)"
     ],
     "language": "python",
     "metadata": {},
     "outputs": [],
     "prompt_number": 20
    },
    {
     "cell_type": "code",
     "collapsed": false,
     "input": [
      "res.sum(axis=1)"
     ],
     "language": "python",
     "metadata": {},
     "outputs": [
      {
       "metadata": {},
       "output_type": "pyout",
       "prompt_number": 21,
       "text": [
        "array([71, 55, 42, 23, 50])"
       ]
      }
     ],
     "prompt_number": 21
    },
    {
     "cell_type": "code",
     "collapsed": false,
     "input": [],
     "language": "python",
     "metadata": {},
     "outputs": [],
     "prompt_number": 21
    },
    {
     "cell_type": "code",
     "collapsed": false,
     "input": [],
     "language": "python",
     "metadata": {},
     "outputs": [],
     "prompt_number": 21
    },
    {
     "cell_type": "code",
     "collapsed": false,
     "input": [
      "res = b.iterate(test, threshold=0.6, adapt_rate=0.02, max_iter=20)\n",
      "pd.DataFrame(res)"
     ],
     "language": "python",
     "metadata": {},
     "outputs": [
      {
       "html": [
        "<div style=\"max-height:1000px;max-width:1500px;overflow:auto;\">\n",
        "<table border=\"1\" class=\"dataframe\">\n",
        "  <thead>\n",
        "    <tr style=\"text-align: right;\">\n",
        "      <th></th>\n",
        "      <th>in_best_pattern</th>\n",
        "      <th>in_max_corr</th>\n",
        "      <th>in_sum</th>\n",
        "      <th>in_threshold</th>\n",
        "      <th>out_best_pattern</th>\n",
        "      <th>out_max_corr</th>\n",
        "      <th>out_sum</th>\n",
        "      <th>out_threshold</th>\n",
        "    </tr>\n",
        "  </thead>\n",
        "  <tbody>\n",
        "    <tr>\n",
        "      <th>0 </th>\n",
        "      <td>   [100, 198, 28, 153, 38]</td>\n",
        "      <td> [0.0877192982456, 0.0888888888889, 0.097560975...</td>\n",
        "      <td> [49, 30, 55, 62, 39]</td>\n",
        "      <td> [0.719167287008, 0.54285, 0.722221574735, 0.59...</td>\n",
        "      <td>   [100, 198, 177, 13, 80]</td>\n",
        "      <td> [0.325, 0.351351351351, 0.189189189189, 0.1315...</td>\n",
        "      <td> [71, 55, 42, 23, 50]</td>\n",
        "      <td> [0.753614296243, 0.6, 0.706679842418, 0.555965...</td>\n",
        "    </tr>\n",
        "    <tr>\n",
        "      <th>1 </th>\n",
        "      <td>  [156, 198, 184, 38, 182]</td>\n",
        "      <td> [0.311475409836, 0.133333333333, 0.36170212766...</td>\n",
        "      <td> [45, 10, 74, 25, 37]</td>\n",
        "      <td> [0.719167287008, 0.54285, 0.722221574735, 0.59...</td>\n",
        "      <td>  [156, 198, 184, 13, 182]</td>\n",
        "      <td> [0.403225806452, 0.513513513514, 0.17647058823...</td>\n",
        "      <td> [33, 32, 30, 38, 57]</td>\n",
        "      <td> [0.753614296243, 0.6, 0.706679842418, 0.555965...</td>\n",
        "    </tr>\n",
        "    <tr>\n",
        "      <th>2 </th>\n",
        "      <td>  [156, 198, 184, 106, 38]</td>\n",
        "      <td> [0.918032786885, 0.333333333333, 0.27659574468...</td>\n",
        "      <td> [58, 16, 43, 43, 43]</td>\n",
        "      <td> [0.719167287008, 0.54285, 0.722221574735, 0.59...</td>\n",
        "      <td>  [156, 198, 156, 13, 164]</td>\n",
        "      <td> [1.0, 1.0, 0.306451612903, 0.210526315789, 0.3...</td>\n",
        "      <td> [62, 38, 43, 46, 50]</td>\n",
        "      <td> [0.753614296243, 0.6, 0.706679842418, 0.555965...</td>\n",
        "    </tr>\n",
        "    <tr>\n",
        "      <th>3 </th>\n",
        "      <td> [156, 198, 156, 106, 164]</td>\n",
        "      <td>  [1.0, 1.0, 0.344262295082, 0.25641025641, 0.425]</td>\n",
        "      <td> [61, 45, 33, 46, 41]</td>\n",
        "      <td> [0.719167287008, 0.54285, 0.722221574735, 0.59...</td>\n",
        "      <td> [156, 198, 156, 100, 164]</td>\n",
        "      <td>   [1.0, 1.0, 0.677419354839, 0.2, 0.490196078431]</td>\n",
        "      <td> [62, 37, 45, 40, 42]</td>\n",
        "      <td> [0.753614296243, 0.6, 0.706679842418, 0.555965...</td>\n",
        "    </tr>\n",
        "    <tr>\n",
        "      <th>4 </th>\n",
        "      <td> [156, 198, 156, 106, 164]</td>\n",
        "      <td>              [1.0, 1.0, 1.0, 0.25641025641, 0.55]</td>\n",
        "      <td> [61, 45, 61, 44, 22]</td>\n",
        "      <td> [0.719167287008, 0.54285, 0.722221574735, 0.59...</td>\n",
        "      <td> [156, 198, 156, 100, 164]</td>\n",
        "      <td>                         [1.0, 1.0, 1.0, 0.2, 1.0]</td>\n",
        "      <td> [62, 37, 62, 36, 51]</td>\n",
        "      <td> [0.753614296243, 0.6, 0.706679842418, 0.555965...</td>\n",
        "    </tr>\n",
        "    <tr>\n",
        "      <th>5 </th>\n",
        "      <td> [156, 198, 156, 106, 164]</td>\n",
        "      <td>               [1.0, 1.0, 1.0, 0.25641025641, 1.0]</td>\n",
        "      <td> [61, 45, 61, 48, 40]</td>\n",
        "      <td> [0.719167287008, 0.54285, 0.722221574735, 0.59...</td>\n",
        "      <td> [156, 198, 156, 100, 164]</td>\n",
        "      <td>                         [1.0, 1.0, 1.0, 0.2, 1.0]</td>\n",
        "      <td> [62, 37, 62, 32, 51]</td>\n",
        "      <td> [0.753614296243, 0.6, 0.706679842418, 0.555965...</td>\n",
        "    </tr>\n",
        "    <tr>\n",
        "      <th>6 </th>\n",
        "      <td> [156, 198, 156, 106, 164]</td>\n",
        "      <td>              [1.0, 1.0, 1.0, 0.230769230769, 1.0]</td>\n",
        "      <td> [61, 45, 61, 40, 40]</td>\n",
        "      <td> [0.719167287008, 0.54285, 0.722221574735, 0.59...</td>\n",
        "      <td> [156, 198, 156, 100, 164]</td>\n",
        "      <td>                         [1.0, 1.0, 1.0, 0.2, 1.0]</td>\n",
        "      <td> [62, 37, 62, 28, 51]</td>\n",
        "      <td> [0.753614296243, 0.6, 0.706679842418, 0.555965...</td>\n",
        "    </tr>\n",
        "    <tr>\n",
        "      <th>7 </th>\n",
        "      <td> [156, 198, 156, 106, 164]</td>\n",
        "      <td>              [1.0, 1.0, 1.0, 0.230769230769, 1.0]</td>\n",
        "      <td> [61, 45, 61, 45, 40]</td>\n",
        "      <td> [0.719167287008, 0.54285, 0.722221574735, 0.59...</td>\n",
        "      <td> [156, 198, 156, 100, 164]</td>\n",
        "      <td>                       [1.0, 1.0, 1.0, 0.225, 1.0]</td>\n",
        "      <td> [62, 37, 62, 30, 51]</td>\n",
        "      <td> [0.753614296243, 0.6, 0.706679842418, 0.555965...</td>\n",
        "    </tr>\n",
        "    <tr>\n",
        "      <th>8 </th>\n",
        "      <td> [156, 198, 156, 106, 164]</td>\n",
        "      <td>              [1.0, 1.0, 1.0, 0.230769230769, 1.0]</td>\n",
        "      <td> [61, 45, 61, 41, 40]</td>\n",
        "      <td> [0.719167287008, 0.54285, 0.722221574735, 0.59...</td>\n",
        "      <td> [156, 198, 156, 100, 164]</td>\n",
        "      <td>                       [1.0, 1.0, 1.0, 0.225, 1.0]</td>\n",
        "      <td> [62, 37, 62, 25, 51]</td>\n",
        "      <td> [0.753614296243, 0.6, 0.706679842418, 0.555965...</td>\n",
        "    </tr>\n",
        "    <tr>\n",
        "      <th>9 </th>\n",
        "      <td> [156, 198, 156, 156, 164]</td>\n",
        "      <td>              [1.0, 1.0, 1.0, 0.262295081967, 1.0]</td>\n",
        "      <td> [61, 45, 61, 42, 40]</td>\n",
        "      <td> [0.719167287008, 0.54285, 0.722221574735, 0.59...</td>\n",
        "      <td> [156, 198, 156, 100, 164]</td>\n",
        "      <td>                       [1.0, 1.0, 1.0, 0.225, 1.0]</td>\n",
        "      <td> [62, 37, 62, 25, 51]</td>\n",
        "      <td> [0.753614296243, 0.6, 0.706679842418, 0.555965...</td>\n",
        "    </tr>\n",
        "    <tr>\n",
        "      <th>10</th>\n",
        "      <td> [156, 198, 156, 156, 164]</td>\n",
        "      <td>              [1.0, 1.0, 1.0, 0.295081967213, 1.0]</td>\n",
        "      <td> [61, 45, 61, 25, 40]</td>\n",
        "      <td> [0.719167287008, 0.54285, 0.722221574735, 0.59...</td>\n",
        "      <td> [156, 198, 156, 156, 164]</td>\n",
        "      <td>              [1.0, 1.0, 1.0, 0.790322580645, 1.0]</td>\n",
        "      <td> [62, 37, 62, 52, 51]</td>\n",
        "      <td> [0.753614296243, 0.6, 0.706679842418, 0.555965...</td>\n",
        "    </tr>\n",
        "    <tr>\n",
        "      <th>11</th>\n",
        "      <td> [156, 198, 156, 156, 164]</td>\n",
        "      <td>                         [1.0, 1.0, 1.0, 1.0, 1.0]</td>\n",
        "      <td> [61, 45, 61, 61, 40]</td>\n",
        "      <td> [0.719167287008, 0.54285, 0.722221574735, 0.59...</td>\n",
        "      <td> [156, 198, 156, 156, 164]</td>\n",
        "      <td>                         [1.0, 1.0, 1.0, 1.0, 1.0]</td>\n",
        "      <td> [62, 37, 62, 62, 51]</td>\n",
        "      <td> [0.753614296243, 0.6, 0.706679842418, 0.555965...</td>\n",
        "    </tr>\n",
        "    <tr>\n",
        "      <th>12</th>\n",
        "      <td> [156, 198, 156, 156, 164]</td>\n",
        "      <td>                         [1.0, 1.0, 1.0, 1.0, 1.0]</td>\n",
        "      <td> [61, 45, 61, 61, 40]</td>\n",
        "      <td> [0.719167287008, 0.54285, 0.722221574735, 0.59...</td>\n",
        "      <td> [156, 198, 156, 156, 164]</td>\n",
        "      <td>                         [1.0, 1.0, 1.0, 1.0, 1.0]</td>\n",
        "      <td> [62, 37, 62, 62, 51]</td>\n",
        "      <td> [0.753614296243, 0.6, 0.706679842418, 0.555965...</td>\n",
        "    </tr>\n",
        "  </tbody>\n",
        "</table>\n",
        "</div>"
       ],
       "metadata": {},
       "output_type": "pyout",
       "prompt_number": 22,
       "text": [
        "              in_best_pattern  \\\n",
        "0     [100, 198, 28, 153, 38]   \n",
        "1    [156, 198, 184, 38, 182]   \n",
        "2    [156, 198, 184, 106, 38]   \n",
        "3   [156, 198, 156, 106, 164]   \n",
        "4   [156, 198, 156, 106, 164]   \n",
        "5   [156, 198, 156, 106, 164]   \n",
        "6   [156, 198, 156, 106, 164]   \n",
        "7   [156, 198, 156, 106, 164]   \n",
        "8   [156, 198, 156, 106, 164]   \n",
        "9   [156, 198, 156, 156, 164]   \n",
        "10  [156, 198, 156, 156, 164]   \n",
        "11  [156, 198, 156, 156, 164]   \n",
        "12  [156, 198, 156, 156, 164]   \n",
        "\n",
        "                                          in_max_corr                in_sum  \\\n",
        "0   [0.0877192982456, 0.0888888888889, 0.097560975...  [49, 30, 55, 62, 39]   \n",
        "1   [0.311475409836, 0.133333333333, 0.36170212766...  [45, 10, 74, 25, 37]   \n",
        "2   [0.918032786885, 0.333333333333, 0.27659574468...  [58, 16, 43, 43, 43]   \n",
        "3    [1.0, 1.0, 0.344262295082, 0.25641025641, 0.425]  [61, 45, 33, 46, 41]   \n",
        "4                [1.0, 1.0, 1.0, 0.25641025641, 0.55]  [61, 45, 61, 44, 22]   \n",
        "5                 [1.0, 1.0, 1.0, 0.25641025641, 1.0]  [61, 45, 61, 48, 40]   \n",
        "6                [1.0, 1.0, 1.0, 0.230769230769, 1.0]  [61, 45, 61, 40, 40]   \n",
        "7                [1.0, 1.0, 1.0, 0.230769230769, 1.0]  [61, 45, 61, 45, 40]   \n",
        "8                [1.0, 1.0, 1.0, 0.230769230769, 1.0]  [61, 45, 61, 41, 40]   \n",
        "9                [1.0, 1.0, 1.0, 0.262295081967, 1.0]  [61, 45, 61, 42, 40]   \n",
        "10               [1.0, 1.0, 1.0, 0.295081967213, 1.0]  [61, 45, 61, 25, 40]   \n",
        "11                          [1.0, 1.0, 1.0, 1.0, 1.0]  [61, 45, 61, 61, 40]   \n",
        "12                          [1.0, 1.0, 1.0, 1.0, 1.0]  [61, 45, 61, 61, 40]   \n",
        "\n",
        "                                         in_threshold  \\\n",
        "0   [0.719167287008, 0.54285, 0.722221574735, 0.59...   \n",
        "1   [0.719167287008, 0.54285, 0.722221574735, 0.59...   \n",
        "2   [0.719167287008, 0.54285, 0.722221574735, 0.59...   \n",
        "3   [0.719167287008, 0.54285, 0.722221574735, 0.59...   \n",
        "4   [0.719167287008, 0.54285, 0.722221574735, 0.59...   \n",
        "5   [0.719167287008, 0.54285, 0.722221574735, 0.59...   \n",
        "6   [0.719167287008, 0.54285, 0.722221574735, 0.59...   \n",
        "7   [0.719167287008, 0.54285, 0.722221574735, 0.59...   \n",
        "8   [0.719167287008, 0.54285, 0.722221574735, 0.59...   \n",
        "9   [0.719167287008, 0.54285, 0.722221574735, 0.59...   \n",
        "10  [0.719167287008, 0.54285, 0.722221574735, 0.59...   \n",
        "11  [0.719167287008, 0.54285, 0.722221574735, 0.59...   \n",
        "12  [0.719167287008, 0.54285, 0.722221574735, 0.59...   \n",
        "\n",
        "             out_best_pattern  \\\n",
        "0     [100, 198, 177, 13, 80]   \n",
        "1    [156, 198, 184, 13, 182]   \n",
        "2    [156, 198, 156, 13, 164]   \n",
        "3   [156, 198, 156, 100, 164]   \n",
        "4   [156, 198, 156, 100, 164]   \n",
        "5   [156, 198, 156, 100, 164]   \n",
        "6   [156, 198, 156, 100, 164]   \n",
        "7   [156, 198, 156, 100, 164]   \n",
        "8   [156, 198, 156, 100, 164]   \n",
        "9   [156, 198, 156, 100, 164]   \n",
        "10  [156, 198, 156, 156, 164]   \n",
        "11  [156, 198, 156, 156, 164]   \n",
        "12  [156, 198, 156, 156, 164]   \n",
        "\n",
        "                                         out_max_corr               out_sum  \\\n",
        "0   [0.325, 0.351351351351, 0.189189189189, 0.1315...  [71, 55, 42, 23, 50]   \n",
        "1   [0.403225806452, 0.513513513514, 0.17647058823...  [33, 32, 30, 38, 57]   \n",
        "2   [1.0, 1.0, 0.306451612903, 0.210526315789, 0.3...  [62, 38, 43, 46, 50]   \n",
        "3     [1.0, 1.0, 0.677419354839, 0.2, 0.490196078431]  [62, 37, 45, 40, 42]   \n",
        "4                           [1.0, 1.0, 1.0, 0.2, 1.0]  [62, 37, 62, 36, 51]   \n",
        "5                           [1.0, 1.0, 1.0, 0.2, 1.0]  [62, 37, 62, 32, 51]   \n",
        "6                           [1.0, 1.0, 1.0, 0.2, 1.0]  [62, 37, 62, 28, 51]   \n",
        "7                         [1.0, 1.0, 1.0, 0.225, 1.0]  [62, 37, 62, 30, 51]   \n",
        "8                         [1.0, 1.0, 1.0, 0.225, 1.0]  [62, 37, 62, 25, 51]   \n",
        "9                         [1.0, 1.0, 1.0, 0.225, 1.0]  [62, 37, 62, 25, 51]   \n",
        "10               [1.0, 1.0, 1.0, 0.790322580645, 1.0]  [62, 37, 62, 52, 51]   \n",
        "11                          [1.0, 1.0, 1.0, 1.0, 1.0]  [62, 37, 62, 62, 51]   \n",
        "12                          [1.0, 1.0, 1.0, 1.0, 1.0]  [62, 37, 62, 62, 51]   \n",
        "\n",
        "                                        out_threshold  \n",
        "0   [0.753614296243, 0.6, 0.706679842418, 0.555965...  \n",
        "1   [0.753614296243, 0.6, 0.706679842418, 0.555965...  \n",
        "2   [0.753614296243, 0.6, 0.706679842418, 0.555965...  \n",
        "3   [0.753614296243, 0.6, 0.706679842418, 0.555965...  \n",
        "4   [0.753614296243, 0.6, 0.706679842418, 0.555965...  \n",
        "5   [0.753614296243, 0.6, 0.706679842418, 0.555965...  \n",
        "6   [0.753614296243, 0.6, 0.706679842418, 0.555965...  \n",
        "7   [0.753614296243, 0.6, 0.706679842418, 0.555965...  \n",
        "8   [0.753614296243, 0.6, 0.706679842418, 0.555965...  \n",
        "9   [0.753614296243, 0.6, 0.706679842418, 0.555965...  \n",
        "10  [0.753614296243, 0.6, 0.706679842418, 0.555965...  \n",
        "11  [0.753614296243, 0.6, 0.706679842418, 0.555965...  \n",
        "12  [0.753614296243, 0.6, 0.706679842418, 0.555965...  "
       ]
      }
     ],
     "prompt_number": 22
    },
    {
     "cell_type": "code",
     "collapsed": false,
     "input": [],
     "language": "python",
     "metadata": {},
     "outputs": [],
     "prompt_number": 11
    },
    {
     "cell_type": "code",
     "collapsed": false,
     "input": [],
     "language": "python",
     "metadata": {},
     "outputs": [],
     "prompt_number": 11
    },
    {
     "cell_type": "code",
     "collapsed": false,
     "input": [],
     "language": "python",
     "metadata": {},
     "outputs": [],
     "prompt_number": 11
    },
    {
     "cell_type": "code",
     "collapsed": false,
     "input": [],
     "language": "python",
     "metadata": {},
     "outputs": [],
     "prompt_number": 11
    },
    {
     "cell_type": "code",
     "collapsed": false,
     "input": [
      "np.arange(10).reshape((-1, 10)).sum(axis=1)"
     ],
     "language": "python",
     "metadata": {},
     "outputs": [
      {
       "metadata": {},
       "output_type": "pyout",
       "prompt_number": 12,
       "text": [
        "array([45])"
       ]
      }
     ],
     "prompt_number": 12
    },
    {
     "cell_type": "code",
     "collapsed": false,
     "input": [
      "res = np.random.rand(10, 20)\n",
      "th = 0.5 * np.ones(10)"
     ],
     "language": "python",
     "metadata": {},
     "outputs": [],
     "prompt_number": 13
    },
    {
     "cell_type": "code",
     "collapsed": false,
     "input": [
      "adapt_rate = 0.02\n",
      "out_sum = np.array([5, 10, 20, 30, 40, 50, 60, 70, 80, 90])\n",
      "th_out = np.ones(10) * 0.6"
     ],
     "language": "python",
     "metadata": {},
     "outputs": [],
     "prompt_number": 14
    },
    {
     "cell_type": "code",
     "collapsed": false,
     "input": [
      "th_out *= (1. - (out_sum < 30) * adapt_rate * 30. / out_sum + (out_sum > 60) * adapt_rate * out_sum / 60.)"
     ],
     "language": "python",
     "metadata": {},
     "outputs": [],
     "prompt_number": 15
    },
    {
     "cell_type": "code",
     "collapsed": false,
     "input": [
      "(th_out > 0).any()"
     ],
     "language": "python",
     "metadata": {},
     "outputs": [
      {
       "metadata": {},
       "output_type": "pyout",
       "prompt_number": 16,
       "text": [
        "True"
       ]
      }
     ],
     "prompt_number": 16
    },
    {
     "cell_type": "code",
     "collapsed": false,
     "input": [
      "th_out"
     ],
     "language": "python",
     "metadata": {},
     "outputs": [
      {
       "metadata": {},
       "output_type": "pyout",
       "prompt_number": 17,
       "text": [
        "array([ 0.528,  0.564,  0.582,  0.6  ,  0.6  ,  0.6  ,  0.6  ,  0.614,\n",
        "        0.616,  0.618])"
       ]
      }
     ],
     "prompt_number": 17
    },
    {
     "cell_type": "code",
     "collapsed": false,
     "input": [],
     "language": "python",
     "metadata": {},
     "outputs": [],
     "prompt_number": 17
    }
   ],
   "metadata": {}
  }
 ]
}